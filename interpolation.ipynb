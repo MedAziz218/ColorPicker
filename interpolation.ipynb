{
  "nbformat": 4,
  "nbformat_minor": 0,
  "metadata": {
    "colab": {
      "provenance": [],
      "authorship_tag": "ABX9TyN7yZmeVWOMfowvigayOBmf",
      "include_colab_link": true
    },
    "kernelspec": {
      "name": "python3",
      "display_name": "Python 3"
    },
    "language_info": {
      "name": "python"
    }
  },
  "cells": [
    {
      "cell_type": "markdown",
      "metadata": {
        "id": "view-in-github",
        "colab_type": "text"
      },
      "source": [
        "<a href=\"https://colab.research.google.com/github/MedAziz218/ColorPicker/blob/main/interpolation.ipynb\" target=\"_parent\"><img src=\"https://colab.research.google.com/assets/colab-badge.svg\" alt=\"Open In Colab\"/></a>"
      ]
    },
    {
      "cell_type": "code",
      "source": [
        "## Header\n",
        "import numpy as np\n",
        "import numpy.linalg as alg\n",
        "from matplotlib import pyplot as plt\n",
        "\n"
      ],
      "metadata": {
        "id": "_YHb_bOGEi2Q"
      },
      "execution_count": null,
      "outputs": []
    },
    {
      "cell_type": "code",
      "source": [
        "def equidistant_points(a,b,n):\n",
        "    assert a < b\n",
        "    return np.linspace(a,b,n)\n",
        "def tchebychev_points(a,b,n):\n",
        "    assert a < b\n",
        "    l = []\n",
        "    for k in range(n):\n",
        "        xk = np.cos((2*k+1)*np.pi/(2*(n+1)))\n",
        "        l.append(xk)\n",
        "    return ((np.array(l)+1)/2)*(b-a)+a\n",
        "# xs = tchebychev_points(6,9,20)\n",
        "# print(xs)\n",
        "# plt.scatter(xs,np.zeros(xs.size))\n"
      ],
      "metadata": {
        "colab": {
          "base_uri": "https://localhost:8080/",
          "height": 352
        },
        "id": "Sh06gVp2GKjH",
        "outputId": "a38d8595-ecde-4753-e587-987cb6331cb9"
      },
      "execution_count": 98,
      "outputs": [
        {
          "output_type": "stream",
          "name": "stdout",
          "text": [
            "[8.9958057  8.96239187 8.89631062 8.79903811 8.67274722 8.52025911\n",
            " 8.34498009 8.15082561 7.94213276 7.7235634  7.5        7.2764366\n",
            " 7.05786724 6.84917439 6.65501991 6.47974089 6.32725278 6.20096189\n",
            " 6.10368938 6.03760813]\n"
          ]
        },
        {
          "output_type": "execute_result",
          "data": {
            "text/plain": [
              "<matplotlib.collections.PathCollection at 0x7f532fda7460>"
            ]
          },
          "metadata": {},
          "execution_count": 98
        },
        {
          "output_type": "display_data",
          "data": {
            "text/plain": [
              "<Figure size 432x288 with 1 Axes>"
            ],
            "image/png": "[encoded data removed]"
          },
          "metadata": {
            "needs_background": "light"
          }
        }
      ]
    },
    {
      "cell_type": "code",
      "execution_count": 144,
      "metadata": {
        "colab": {
          "base_uri": "https://localhost:8080/",
          "height": 354
        },
        "id": "ujEldzQn1upF",
        "outputId": "2f4b6634-6eba-4645-b8e3-cee4f82a2ccb"
      },
      "outputs": [
        {
          "output_type": "stream",
          "name": "stderr",
          "text": [
            "<ipython-input-144-c88f7d8ea5be>:28: MatplotlibDeprecationWarning: Adding an axes using the same arguments as a previous axes currently reuses the earlier instance.  In a future version, a new instance will always be created and returned.  Meanwhile, this warning can be suppressed, and the future behavior ensured, by passing a unique label to each axes instance.\n",
            "  plt.subplot(1,2,1)\n",
            "<ipython-input-144-c88f7d8ea5be>:36: MatplotlibDeprecationWarning: Adding an axes using the same arguments as a previous axes currently reuses the earlier instance.  In a future version, a new instance will always be created and returned.  Meanwhile, this warning can be suppressed, and the future behavior ensured, by passing a unique label to each axes instance.\n",
            "  plt.subplot(1,2,2)\n"
          ]
        },
        {
          "output_type": "display_data",
          "data": {
            "text/plain": [
              "<Figure size 432x288 with 2 Axes>"
            ],
            "image/png": "[encoded data removed]"
          },
          "metadata": {
            "needs_background": "light"
          }
        }
      ],
      "source": [
        "## methode directe\n",
        "\n",
        "\n",
        "def methode_directe(f, xs:np.array):\n",
        "    ys = f(xs)\n",
        "    van = np.vander(xs,n)\n",
        "    sol = alg.solve(van,ys)\n",
        "    sol = sol[::-1] # polynome coefficents\n",
        "\n",
        "    def p(x):\n",
        "        return sum([(x**i)*sol[i] for i in range(n)])\n",
        "    p = np.vectorize(p)\n",
        "    return p\n",
        "pi = np.pi\n",
        "a,b = -pi/2,pi/2\n",
        "n = 15\n",
        "f = lambda x: np.sinc(x*np.pi)\n",
        "\n",
        "# plotting the graph\n",
        "\n",
        "for i in range(1,3):\n",
        "    plt.subplot(1,2,i)\n",
        "    fxs = np.linspace(a,b,500)\n",
        "    plt.plot(fxs,f(fxs),label = 'f',c='r')\n",
        "\n",
        "\n",
        "\n",
        "plt.subplot(1,2,1)\n",
        "xs = equidistant_points(a,b,n)\n",
        "p_eq = methode_directe(f,xs)\n",
        "plt.plot(fxs,p_eq(fxs),label = 'p_eq',c='b')\n",
        "plt.scatter(xs,f(xs))\n",
        "plt.legend();plt.grid();\n",
        "\n",
        "\n",
        "plt.subplot(1,2,2)\n",
        "xs = tchebychev_points(a,b,n)\n",
        "p_tcheby =  methode_directe(f,xs)\n",
        "plt.plot(fxs,p_tcheby(fxs),label = 'p_tcheby',c='black')\n",
        "plt.scatter(xs,f(xs))\n",
        "plt.grid();\n",
        "\n",
        "\n",
        "\n",
        "\n",
        "plt.show()\n"
      ]
    },
    {
      "cell_type": "code",
      "source": [
        "## methode de Lagrange\n",
        "\n"
      ],
      "metadata": {
        "colab": {
          "base_uri": "https://localhost:8080/"
        },
        "id": "RLV74KVMEaYO",
        "outputId": "cb64d841-3143-4fc4-d76b-cd3f0e6c1b2d"
      },
      "execution_count": 68,
      "outputs": [
        {
          "output_type": "stream",
          "name": "stdout",
          "text": [
            "<numpy.vectorize object at 0x7f532fc02790>\n"
          ]
        }
      ]
    }
  ]
}